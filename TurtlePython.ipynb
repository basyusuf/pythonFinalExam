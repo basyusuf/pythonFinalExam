{
 "cells": [
  {
   "cell_type": "code",
   "execution_count": 1,
   "metadata": {},
   "outputs": [],
   "source": [
    "# Turtle kodları\n",
    "import turtle\n",
    "myturtle = turtle.Turtle()\n",
    "for i in range(0,4):\n",
    "    myturtle.forward(100)\n",
    "    myturtle.left(90)\n",
    "turtle.done()"
   ]
  },
  {
   "cell_type": "code",
   "execution_count": 1,
   "metadata": {},
   "outputs": [],
   "source": [
    "# Daire çiz\n",
    "import turtle\n",
    "mycircleturtle= turtle.Turtle()\n",
    "mycircleturtle.circle(50)\n",
    "turtle.done()"
   ]
  },
  {
   "cell_type": "code",
   "execution_count": 1,
   "metadata": {},
   "outputs": [],
   "source": [
    "# Yarım daire çiz\n",
    "import turtle\n",
    "yarimdaire = turtle.Turtle()\n",
    "yarimdaire.circle(90,180)\n",
    "turtle.done()"
   ]
  },
  {
   "cell_type": "code",
   "execution_count": 1,
   "metadata": {},
   "outputs": [],
   "source": [
    "# Altıgen çizmek için\n",
    "import turtle\n",
    "altigen = turtle.Turtle()\n",
    "altigen.circle(90,360,6)\n",
    "turtle.done()"
   ]
  },
  {
   "cell_type": "code",
   "execution_count": 1,
   "metadata": {},
   "outputs": [
    {
     "name": "stdout",
     "output_type": "stream",
     "text": [
      "(0.00,180.00)\n"
     ]
    }
   ],
   "source": [
    "import turtle\n",
    "tt = turtle.Turtle()\n",
    "tt.circle(90, 180) # 90 birim yarıçapı olan bir yarım daire çiz\n",
    "print(tt.pos())\n",
    "turtle.done()"
   ]
  },
  {
   "cell_type": "code",
   "execution_count": 1,
   "metadata": {},
   "outputs": [],
   "source": [
    "import turtle\n",
    "ucgen = turtle.Turtle()\n",
    "ucgen.shape(\"turtle\")\n",
    "ucgen.forward(200)\n",
    "ucgen.left(120)\n",
    "ucgen.forward(200)\n",
    "ucgen.left(120)\n",
    "ucgen.forward(200)\n",
    "ucgen.hideturtle()\n",
    "turtle.done()\n",
    "# Shape ile birlikte\n",
    "# ‘arrow’, ‘blank’, ‘circle’, ‘classic’, ‘square’,‘triangle’, ‘turtle’ \n",
    "# şekillerinden biri de çizdirilebilir\n",
    "## hideturtle() ile gizleriz"
   ]
  },
  {
   "cell_type": "code",
   "execution_count": 1,
   "metadata": {},
   "outputs": [],
   "source": [
    "# Turtle Örnek\n",
    "# Bir kaplumbağa robotunu merdivenden 5 basamak aşağı indiren (veya 5 basamaktan oluşan bir merdiven şeklini ekrana çizen) \n",
    "# uygulamayı kodlayınız.\n",
    "import turtle\n",
    "ucgen = turtle.Turtle()\n",
    "for i in range(0,5):\n",
    "    ucgen.forward(20)\n",
    "    ucgen.right(90)\n",
    "    ucgen.forward(20)\n",
    "    ucgen.left(90)\n",
    "    ucgen.forward(20)\n",
    "turtle.done()"
   ]
  },
  {
   "cell_type": "code",
   "execution_count": 1,
   "metadata": {},
   "outputs": [],
   "source": [
    "# Arka plan lacivert kamplumbağa sarı\n",
    "from turtle import *\n",
    "shape('turtle')\n",
    "shapesize(20) #kaplumbağa büyüklüğü\n",
    "bgcolor(\"blue\") #arkaplan rengi"
   ]
  },
  {
   "cell_type": "code",
   "execution_count": 1,
   "metadata": {},
   "outputs": [],
   "source": [
    "#Ekrana çizgi rengi kırmızı dolgu rengi mavi bir yıldız çizen programı yazınız.\n",
    "import turtle\n",
    "myturtle = turtle.Turtle()\n",
    "myturtle.color(\"red\",\"yellow\")\n",
    "myturtle.begin_fill()\n",
    "for i in range(5):\n",
    "    myturtle.forward(60)\n",
    "    myturtle.left(144)\n",
    "myturtle.end_fill()\n",
    "turtle.done()"
   ]
  },
  {
   "cell_type": "code",
   "execution_count": 2,
   "metadata": {},
   "outputs": [],
   "source": [
    "#Ekrana dolgu rengi sarı, kenar çizgi rengi birbirinden farklı olan kare çizen programı yazınız.\n",
    "import turtle\n",
    "myturtle = turtle.Turtle()\n",
    "myturtle.shape('turtle')\n",
    "myturtle.color('yellow')\n",
    "myturtle.begin_fill()\n",
    "myturtle.pensize(4) #çizgi kalınlığı\n",
    "myturtle.speed(1)\n",
    "for renk in [\"black\",\"violet\",\"cyan\",\"red\"]:\n",
    "    myturtle.pencolor(renk) #çizgi rengi\n",
    "    myturtle.forward(200)\n",
    "    myturtle.left(90)\n",
    "myturtle.end_fill()"
   ]
  },
  {
   "cell_type": "code",
   "execution_count": 2,
   "metadata": {},
   "outputs": [],
   "source": [
    "#İç içe kare çizdiren programı yazınız.\n",
    "import turtle\n",
    "wn = turtle.Screen()\n",
    "wn.title(\"Ninja Turtles\")\n",
    "michelangelo = turtle.Turtle()\n",
    "michelangelo.color(\"orange\")\n",
    "michelangelo.pensize(5)\n",
    "michelangelo.shape('turtle')\n",
    "michelangelo.speed(1)\n",
    "michelangelo.begin_fill()\n",
    "for i in range(4):\n",
    "    michelangelo.forward(240)\n",
    "    michelangelo.left(90)\n",
    "michelangelo.right(180)\n",
    "michelangelo.forward(180)\n",
    "michelangelo.end_fill()\n",
    "leonardo= turtle.Turtle()\n",
    "leonardo.pensize(5)\n",
    "leonardo.color(\"blue\")\n",
    "leonardo.shape('turtle')\n",
    "leonardo.speed(1)\n",
    "leonardo.begin_fill()\n",
    "for i in range(4):\n",
    "    leonardo.forward(180)\n",
    "    leonardo.left(90)\n",
    "leonardo.right(180)\n",
    "leonardo.forward(140)\n",
    "leonardo.end_fill()\n",
    "donatello= turtle.Turtle()\n",
    "donatello.color(\"purple\")\n",
    "donatello.pensize(5)\n",
    "donatello.shape('turtle')\n",
    "donatello.speed(1)\n",
    "donatello.begin_fill()\n",
    "for i in range(4):\n",
    "    donatello.forward(120)\n",
    "    donatello.left(90)\n",
    "donatello.right(180)\n",
    "donatello.forward(100)\n",
    "donatello.end_fill()\n",
    "raphael= turtle.Turtle()\n",
    "raphael.color(\"red\")\n",
    "raphael.pensize(5)\n",
    "raphael.shape('turtle')\n",
    "raphael.speed(1)\n",
    "raphael.begin_fill()\n",
    "for i in range(4):\n",
    "    raphael.forward(60)\n",
    "    raphael.left(90)\n",
    "raphael.right(180)\n",
    "raphael.forward(60)\n",
    "raphael.end_fill()"
   ]
  },
  {
   "cell_type": "code",
   "execution_count": 1,
   "metadata": {},
   "outputs": [],
   "source": [
    "#Adı tospik olan kaplumbağamıza iç içe 4 kare çizdiren programı yazalım.\n",
    "import turtle\n",
    "tospik= turtle.Turtle()\n",
    "tospik.color(\"green\")\n",
    "tospik.pensize(5)\n",
    "tospik.shape('turtle')\n",
    "for i in range(4):\n",
    "    tospik.forward(160)\n",
    "    tospik.left(90)\n",
    "tospik.penup()\n",
    "tospik.goto(20,20)\n",
    "tospik.pendown()\n",
    "for i in range(4):\n",
    "    tospik.forward(120)\n",
    "    tospik.left(90)\n",
    "tospik.penup()\n",
    "tospik.goto(40,40)\n",
    "tospik.pendown()\n",
    "for i in range(4):\n",
    "    tospik.forward(80)\n",
    "    tospik.left(90)\n",
    "tospik.penup()\n",
    "tospik.goto(60,60)\n",
    "tospik.pendown()\n",
    "for i in range(4):\n",
    "    tospik.forward(40)\n",
    "    tospik.left(90)"
   ]
  },
  {
   "cell_type": "code",
   "execution_count": 1,
   "metadata": {},
   "outputs": [],
   "source": [
    "#Japon Bayragı cizin\n",
    "import turtle\n",
    "myturtle = turtle.Turtle()\n",
    "myturtle.shape('blank')\n",
    "myturtle.pensize(5)\n",
    "for i in range(2): #çerçeveyi çizelim\n",
    "    myturtle.forward(150)\n",
    "    myturtle.right(90)\n",
    "    myturtle.forward(100)\n",
    "    myturtle.right(90)\n",
    "myturtle.pensize(1)\n",
    "myturtle.pencolor(\"red\") #kalem rengi\n",
    "myturtle.penup() #kalemi kaldır\n",
    "myturtle.goto(75,-80) #daire pozisyonu\n",
    "myturtle.pendown() #kalemi koy\n",
    "myturtle.fillcolor(\"red\") #daire çizip kırmızıya boya\n",
    "myturtle.begin_fill()#boyamaya başla\n",
    "myturtle.circle(30)\n",
    "myturtle.end_fill()#boyamayı bitir"
   ]
  },
  {
   "cell_type": "code",
   "execution_count": 2,
   "metadata": {},
   "outputs": [
    {
     "name": "stdout",
     "output_type": "stream",
     "text": [
      "Geometrik şekilin kenar sayısı :3\n"
     ]
    }
   ],
   "source": [
    "#Kullanıcıdan aldığımız kenar sayısı ile şekil çizelim\n",
    "import turtle\n",
    "pencere=turtle.Screen()\n",
    "tosbaga = turtle.Turtle()\n",
    "tosbaga.shape(\"turtle\")\n",
    "tosbaga.color(\"red\")\n",
    "tosbaga.pensize(3)\n",
    "kenar_sayisi = int(input(\"Geometrik şekilin kenar sayısı :\"))\n",
    "derece = 360/kenar_sayisi # iç açı hesaplaması\n",
    "for i in range(kenar_sayisi):\n",
    "    tosbaga.forward(100)\n",
    "    tosbaga.right(derece)\n",
    "pencere.exitonclick()"
   ]
  },
  {
   "cell_type": "code",
   "execution_count": 1,
   "metadata": {},
   "outputs": [],
   "source": [
    "#Papatya çiziyor\n",
    "import turtle\n",
    "pencere=turtle.Screen()\n",
    "tosbaga= turtle.Turtle()\n",
    "tosbaga.shape(\"turtle\")\n",
    "tosbaga.color(\"green\")\n",
    "tosbaga.pensize(3)\n",
    "for i in range(8):\n",
    "    tosbaga.right(45)\n",
    "    tosbaga.circle(50)\n",
    "pencere.exitonclick()"
   ]
  },
  {
   "cell_type": "code",
   "execution_count": 1,
   "metadata": {},
   "outputs": [],
   "source": [
    "# Dönen kamplumbağalar\n",
    "import turtle\n",
    "wn= turtle.Screen()\n",
    "wn.bgcolor(\"lightgreen\")\n",
    "test= turtle.Turtle()\n",
    "test.shape(\"turtle\")\n",
    "test.color(\"blue\")\n",
    "test.penup()\n",
    "size= 20\n",
    "for i in range(30):\n",
    "    test.stamp() #Kamplumbağa izi bırakıyor\n",
    "    size= size+3\n",
    "    test.forward(size)\n",
    "    test.right(24)"
   ]
  },
  {
   "cell_type": "code",
   "execution_count": null,
   "metadata": {},
   "outputs": [],
   "source": []
  }
 ],
 "metadata": {
  "kernelspec": {
   "display_name": "Python 3",
   "language": "python",
   "name": "python3"
  },
  "language_info": {
   "codemirror_mode": {
    "name": "ipython",
    "version": 3
   },
   "file_extension": ".py",
   "mimetype": "text/x-python",
   "name": "python",
   "nbconvert_exporter": "python",
   "pygments_lexer": "ipython3",
   "version": "3.7.4"
  }
 },
 "nbformat": 4,
 "nbformat_minor": 2
}
