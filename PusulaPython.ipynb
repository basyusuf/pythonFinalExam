{
 "cells": [
  {
   "cell_type": "code",
   "execution_count": 76,
   "metadata": {},
   "outputs": [
    {
     "name": "stdout",
     "output_type": "stream",
     "text": [
      "8\n"
     ]
    }
   ],
   "source": [
    "# Pusula Konuları\n",
    "# Üs alma ** ile sağlanır\n",
    "print(2**3)"
   ]
  },
  {
   "cell_type": "code",
   "execution_count": 17,
   "metadata": {},
   "outputs": [
    {
     "name": "stdout",
     "output_type": "stream",
     "text": [
      "Degerimiz: 8\n",
      "Sola bir bit kaydırırsak: 16\n",
      "Sağa bir bit kaydırırsak: 4\n"
     ]
    }
   ],
   "source": [
    "#Sola 1 bit kaydırma <<\n",
    "#Sağa 1 bit kaydırma >>\n",
    "print(\"Degerimiz: 8\")\n",
    "print(\"Sola bir bit kaydırırsak:\",8<<1)\n",
    "print(\"Sağa bir bit kaydırırsak:\",8>>1)"
   ]
  },
  {
   "cell_type": "code",
   "execution_count": 19,
   "metadata": {},
   "outputs": [
    {
     "name": "stdout",
     "output_type": "stream",
     "text": [
      "X: 3\n",
      "Tek\n"
     ]
    }
   ],
   "source": [
    "#Bir sayının tek mi çift olduğunu bulan program\n",
    "x=int(input(\"X: \"))\n",
    "print(x%2 and \"Tek\" or \"Çift\")"
   ]
  },
  {
   "cell_type": "code",
   "execution_count": 27,
   "metadata": {},
   "outputs": [
    {
     "name": "stdout",
     "output_type": "stream",
     "text": [
      "8.0\n",
      "2.0\n",
      "9\n"
     ]
    }
   ],
   "source": [
    "import math\n",
    "print(math.pow(2,3))\n",
    "print(math.sqrt(4))\n",
    "print(min(9,10))"
   ]
  },
  {
   "cell_type": "code",
   "execution_count": 33,
   "metadata": {},
   "outputs": [
    {
     "name": "stdout",
     "output_type": "stream",
     "text": [
      "Maas:200\n",
      "Zam Oranı:15\n",
      "İlk maaşı: 200\n",
      "%15 Zam oranı ile yeni maaş:230\n"
     ]
    }
   ],
   "source": [
    "#Maaşı ve zam oranı girilen işçinin zamlı maaşını hesaplayan Python kodunu yazınız.\n",
    "maas = int(input(\"Maas:\"))\n",
    "zamOrani = int(input(\"Zam Oranı:\"))\n",
    "yeniMaas = int((zamOrani/100)*maas)+maas\n",
    "print(\"İlk maaşı:\",maas)\n",
    "print(\"%{0} Zam oranı ile yeni maaş:{1}\".format(zamOrani,yeniMaas))"
   ]
  },
  {
   "cell_type": "code",
   "execution_count": 41,
   "metadata": {},
   "outputs": [
    {
     "name": "stdout",
     "output_type": "stream",
     "text": [
      "Sınav Notu:90\n",
      "AA\n"
     ]
    }
   ],
   "source": [
    "############# 3.HAFTA SLAYTLARI DEVAM #########################\n",
    "## 3.hafta b kısımdaki bulanık mantık yazıları okunmalıdır. ##\n",
    "puan=int(input('Sınav Notu:'))\n",
    "if puan >= 90:\n",
    "    print(\"AA\")\n",
    "elif puan >= 80:\n",
    "    print(\"BA\")\n",
    "elif puan >= 70:\n",
    "    print(\"BB\")\n",
    "elif puan >= 60:\n",
    "    print(\"CB\")\n",
    "elif puan >= 50:\n",
    "    print(\"CC\")\n",
    "else:\n",
    "    print(\"FF\")"
   ]
  },
  {
   "cell_type": "code",
   "execution_count": 44,
   "metadata": {},
   "outputs": [
    {
     "name": "stdout",
     "output_type": "stream",
     "text": [
      "100\n",
      "101\n",
      "102\n",
      "103\n",
      "104\n",
      "105\n",
      "106\n",
      "107\n",
      "108\n",
      "109\n",
      "110\n",
      "Döngü Sonlandı\n"
     ]
    }
   ],
   "source": [
    "############# 4.HAFTA SLAYTLARI DEVAM #########################\n",
    "### Bulanık sayılar için 4B okunmalı\n",
    "x=100;\n",
    "while x<=110:\n",
    "    print(x)\n",
    "    x=x+1\n",
    "print(\"Döngü Sonlandı\")"
   ]
  },
  {
   "cell_type": "code",
   "execution_count": 51,
   "metadata": {},
   "outputs": [
    {
     "name": "stdout",
     "output_type": "stream",
     "text": [
      "Elma\n",
      "Armut\n",
      "Seftaliii\n"
     ]
    }
   ],
   "source": [
    "dizi = [\"Elma\",\"Armut\",\"Seftaliii\"]\n",
    "for i in dizi:\n",
    "    print(i)"
   ]
  },
  {
   "cell_type": "code",
   "execution_count": 53,
   "metadata": {},
   "outputs": [
    {
     "name": "stdout",
     "output_type": "stream",
     "text": [
      "1\n",
      "2\n",
      "3\n",
      "4\n",
      "5\n",
      "6\n",
      "7\n",
      "8\n",
      "9\n"
     ]
    }
   ],
   "source": [
    "### 1'den 10'na kadar sayılar\n",
    "for i in range(1,10):\n",
    "    print(i)"
   ]
  },
  {
   "cell_type": "code",
   "execution_count": 59,
   "metadata": {},
   "outputs": [
    {
     "name": "stdout",
     "output_type": "stream",
     "text": [
      "1\n",
      "3\n",
      "5\n",
      "7\n",
      "9\n"
     ]
    }
   ],
   "source": [
    "### 1'den 10'na kadar 2 şer artarak sayılar\n",
    "for i in range(1,10,2):\n",
    "    print(i)"
   ]
  },
  {
   "cell_type": "code",
   "execution_count": 61,
   "metadata": {},
   "outputs": [
    {
     "name": "stdout",
     "output_type": "stream",
     "text": [
      "10\n",
      "9\n",
      "8\n",
      "7\n",
      "6\n",
      "5\n",
      "4\n",
      "3\n",
      "2\n",
      "1\n"
     ]
    }
   ],
   "source": [
    "### 10'dan 1'e kadar olan sayılar\n",
    "for i in range(10,0,-1):\n",
    "    print(i)"
   ]
  },
  {
   "cell_type": "code",
   "execution_count": 64,
   "metadata": {},
   "outputs": [
    {
     "name": "stdout",
     "output_type": "stream",
     "text": [
      "İndex:0 İsmi:Elma\n",
      "İndex:1 İsmi:Armut\n",
      "İndex:2 İsmi:Seftali\n",
      "İndex:3 İsmi:Üzüm\n",
      "İndex:4 İsmi:Çilek\n"
     ]
    }
   ],
   "source": [
    "meyva = [\"Elma\",\"Armut\",\"Seftali\",\"Üzüm\",\"Çilek\"]\n",
    "for index,ismi in enumerate(meyva):\n",
    "    print(\"İndex:{0} İsmi:{1}\".format(index,ismi))"
   ]
  },
  {
   "cell_type": "code",
   "execution_count": 69,
   "metadata": {},
   "outputs": [
    {
     "name": "stdout",
     "output_type": "stream",
     "text": [
      "Sayı giriniz:5\n",
      "5'nın faktoriyeli:120\n"
     ]
    }
   ],
   "source": [
    "### Faktoriyel hesaplama\n",
    "faktoriyel = 1\n",
    "sayi = int(input(\"Sayı giriniz:\"))\n",
    "for i in range(sayi,0,-1):\n",
    "    faktoriyel = faktoriyel * i\n",
    "print(\"{0}'nın faktoriyeli:{1}\".format(sayi,faktoriyel))"
   ]
  },
  {
   "cell_type": "code",
   "execution_count": 78,
   "metadata": {},
   "outputs": [
    {
     "name": "stdout",
     "output_type": "stream",
     "text": [
      "\n",
      "#\n",
      "##\n",
      "###\n",
      "####\n",
      "#####\n",
      "######\n",
      "#######\n"
     ]
    }
   ],
   "source": [
    "### Dik ücgen\n",
    "for i in range(0,8):\n",
    "    print(i * \"#\")"
   ]
  },
  {
   "cell_type": "code",
   "execution_count": 96,
   "metadata": {},
   "outputs": [
    {
     "name": "stdout",
     "output_type": "stream",
     "text": [
      "         #\n",
      "        ###\n",
      "       #####\n",
      "      #######\n",
      "     #########\n",
      "    ###########\n",
      "   #############\n",
      "  ###############\n",
      "\t####\n",
      "\t####\n",
      "\t####\n",
      "\t####\n",
      "\t####\n"
     ]
    }
   ],
   "source": [
    "### Ortadan üçgen\n",
    "x = 1\n",
    "for i in range(8,0,-1):\n",
    "    print(i * \" \",x * \"#\")\n",
    "    x = x+2\n",
    "for i in range (0,5):\n",
    "    print(\"\\t####\")"
   ]
  },
  {
   "cell_type": "code",
   "execution_count": 98,
   "metadata": {},
   "outputs": [
    {
     "name": "stdout",
     "output_type": "stream",
     "text": [
      "Yusuf\n"
     ]
    }
   ],
   "source": [
    "def isimYazdir(x):\n",
    "    print(x)\n",
    "isimYazdir(\"Yusuf\")"
   ]
  },
  {
   "cell_type": "code",
   "execution_count": 100,
   "metadata": {},
   "outputs": [
    {
     "name": "stdout",
     "output_type": "stream",
     "text": [
      "Yusuf\n"
     ]
    }
   ],
   "source": [
    "isimYazdirLambda = lambda x:print(x)\n",
    "isimYazdirLambda(\"Yusuf\")"
   ]
  },
  {
   "cell_type": "code",
   "execution_count": 105,
   "metadata": {},
   "outputs": [
    {
     "name": "stdout",
     "output_type": "stream",
     "text": [
      "[1, 8, 27, 64, 125, 216, 343, 512, 729]\n"
     ]
    }
   ],
   "source": [
    "# Map her bir dizi elemanı için işlem yapar\n",
    "def kupAl(deger):\n",
    "    return deger ** 3\n",
    "# 1'den 10'na kadar olan dizi oluştur\n",
    "dizi = range(1,10)\n",
    "# Dizideki her elemanı kupAl Fonksiyonunu çalıştır\n",
    "sonuc = map(kupAl,dizi)\n",
    "# Maplenmis dizileri görebilmek için [List()] kullanırız\n",
    "print(list(sonuc))"
   ]
  },
  {
   "cell_type": "code",
   "execution_count": 108,
   "metadata": {},
   "outputs": [
    {
     "name": "stdout",
     "output_type": "stream",
     "text": [
      "[1, 3, 5, 7, 9, 11, 13, 15, 17, 19]\n"
     ]
    }
   ],
   "source": [
    "# Filter true dönenleri diziye atar\n",
    "def tekmiKontrol(deger):\n",
    "    return deger%2==1\n",
    "liste = range(1,20)\n",
    "filter_sonucu = filter(tekmiKontrol,liste)\n",
    "print(list(filter_sonucu))"
   ]
  },
  {
   "cell_type": "code",
   "execution_count": 113,
   "metadata": {},
   "outputs": [
    {
     "name": "stdout",
     "output_type": "stream",
     "text": [
      "10\n",
      "10\n"
     ]
    }
   ],
   "source": [
    "# Mutlak değer alır\n",
    "print(abs(-10))\n",
    "# Tam sayıya yuvarlar\n",
    "print(round(10,8))"
   ]
  },
  {
   "cell_type": "code",
   "execution_count": 115,
   "metadata": {},
   "outputs": [
    {
     "name": "stdout",
     "output_type": "stream",
     "text": [
      "120\n"
     ]
    }
   ],
   "source": [
    "# Özyinemeli fonksiyon\n",
    "def faktoriyelHesapla(deger):\n",
    "    if deger <=1:\n",
    "        return 1\n",
    "    else:\n",
    "        return (faktoriyelHesapla(deger-1)*deger)\n",
    "print(faktoriyelHesapla(5))"
   ]
  },
  {
   "cell_type": "code",
   "execution_count": 125,
   "metadata": {},
   "outputs": [
    {
     "name": "stdout",
     "output_type": "stream",
     "text": [
      "Ad: Yusuf \t Tipi: <class 'str'>\n",
      "Fiyat: 20.99 \t Tipi: <class 'float'>\n",
      "Yıl: 2020 \t Tipi: <class 'int'>\n"
     ]
    }
   ],
   "source": [
    "### 10.Hafta\n",
    "# %s Stringler\n",
    "# %f Floatlar içindir basamak sayısını %.2f olarak belirleyebiliriz 2 basamak için\n",
    "# %d tam sayı değerler için\n",
    "#String işlemleri\n",
    "dizi = [\"Y\",\"U\",\"S\",\"U\",\"F\"]\n",
    "ad = \"Yusuf\"\n",
    "fiyat = 20.99\n",
    "yil = 2020\n",
    "print(\"Ad: %s\"%ad,\"\\t Tipi:\",type(ad))\n",
    "print(\"Fiyat: %.2f\"%fiyat,\"\\t Tipi:\",type(fiyat))\n",
    "print(\"Yıl: %d\"%yil,\"\\t Tipi:\",type(yil))"
   ]
  },
  {
   "cell_type": "code",
   "execution_count": 130,
   "metadata": {},
   "outputs": [
    {
     "name": "stdout",
     "output_type": "stream",
     "text": [
      "YUSUF\n",
      "YUS\n",
      "UF\n",
      "SU\n"
     ]
    }
   ],
   "source": [
    "#String Dilimleme (:)\n",
    "ad = \"YUSUF\"\n",
    "#Hepsini yazdırır\n",
    "print(ad[:])\n",
    "#Birden üçüncü indekse kadar yazdırır\n",
    "print(ad[:3])\n",
    "#Üçüncü indeksten başlayarak yazdırmaya başlar\n",
    "print(ad[3:])\n",
    "#İkinci indeksten başlar Dördünce indekse kadar yazdırır.\n",
    "print(ad[2:4])"
   ]
  },
  {
   "cell_type": "code",
   "execution_count": 133,
   "metadata": {},
   "outputs": [
    {
     "name": "stdout",
     "output_type": "stream",
     "text": [
      "kenks\n"
     ]
    },
    {
     "ename": "NameError",
     "evalue": "name 'x' is not defined",
     "output_type": "error",
     "traceback": [
      "\u001b[1;31m---------------------------------------------------------------------------\u001b[0m",
      "\u001b[1;31mNameError\u001b[0m                                 Traceback (most recent call last)",
      "\u001b[1;32m<ipython-input-133-7509d7aba6cb>\u001b[0m in \u001b[0;36m<module>\u001b[1;34m\u001b[0m\n\u001b[0;32m      3\u001b[0m \u001b[0mprint\u001b[0m\u001b[1;33m(\u001b[0m\u001b[0mx\u001b[0m\u001b[1;33m)\u001b[0m\u001b[1;33m\u001b[0m\u001b[1;33m\u001b[0m\u001b[0m\n\u001b[0;32m      4\u001b[0m \u001b[1;32mdel\u001b[0m \u001b[0mx\u001b[0m\u001b[1;33m\u001b[0m\u001b[1;33m\u001b[0m\u001b[0m\n\u001b[1;32m----> 5\u001b[1;33m \u001b[0mprint\u001b[0m\u001b[1;33m(\u001b[0m\u001b[0mx\u001b[0m\u001b[1;33m)\u001b[0m\u001b[1;33m\u001b[0m\u001b[1;33m\u001b[0m\u001b[0m\n\u001b[0m",
      "\u001b[1;31mNameError\u001b[0m: name 'x' is not defined"
     ]
    }
   ],
   "source": [
    "# del komutu değişkeni siler\n",
    "x= \"kenks\"\n",
    "print(x)\n",
    "del x\n",
    "print(x)"
   ]
  },
  {
   "cell_type": "code",
   "execution_count": 150,
   "metadata": {},
   "outputs": [
    {
     "name": "stdout",
     "output_type": "stream",
     "text": [
      "Baba merhaba\n",
      "4\n",
      "True\n",
      "True\n",
      "bcbc merhcbc\n",
      "abahrem abab\n",
      "12\n",
      "baba merhaba\n",
      "BABA MERHABA\n"
     ]
    }
   ],
   "source": [
    "#Python string işlemleri\n",
    "yazi = \"baba merhaba\"\n",
    "# İlk harfi büyük yaptı\n",
    "print(yazi.capitalize())\n",
    "# Verilen değerde kaç tane a harfi var bakıyor\n",
    "print(yazi.count(\"a\"))\n",
    "# Stringin ba ile bittiğini kontrol ediyor\n",
    "print(yazi.endswith(\"ba\"))\n",
    "# Stringin ba ile başladığını kontrol ediyor\n",
    "print(yazi.startswith(\"ba\"))\n",
    "# Replace etmek a yerine c yazacak\n",
    "print(yazi.replace(\"a\",\"c\"))\n",
    "# Stringi tersten yazdırdı\n",
    "print(\"\".join(reversed(yazi)))\n",
    "# String uzunluk\n",
    "print(len(yazi))\n",
    "# Yazının hepsini büyük harf ve küçük harf yazdırmak\n",
    "print(yazi.lower())\n",
    "print(yazi.upper())"
   ]
  },
  {
   "cell_type": "code",
   "execution_count": 154,
   "metadata": {},
   "outputs": [],
   "source": [
    "### HOCANIN VERDİĞİ ÖRNEKLER ### BUNLAR ÖNEMLİ SINAVDA SORABİLİYOR ###"
   ]
  },
  {
   "cell_type": "code",
   "execution_count": 160,
   "metadata": {},
   "outputs": [
    {
     "name": "stdout",
     "output_type": "stream",
     "text": [
      "String giriniz:Selam\n",
      "maleS\n",
      "String giriniz:Selam\n",
      "maleS"
     ]
    }
   ],
   "source": [
    "#Soru : Bir String’i tersten ekrana yazdıracak programı kodlayınız.\n",
    "# 1. YOL\n",
    "yazi = input(\"String giriniz:\")\n",
    "print(\"\".join(reversed(yazi)))\n",
    "# 2. YOL\n",
    "yazi2 = input(\"String giriniz:\")\n",
    "for i in reversed(yazi2):\n",
    "    print(i,end=\"\")"
   ]
  },
  {
   "cell_type": "code",
   "execution_count": 1,
   "metadata": {},
   "outputs": [
    {
     "name": "stdout",
     "output_type": "stream",
     "text": [
      "Kelime sayısı: 4\n",
      "Harf sayısı: 23\n"
     ]
    }
   ],
   "source": [
    "#Soru : Bir cümledeki kelimelerin ve harflerin sayısını hesaplayan programı kodlayınız.\n",
    "cumle = \"Ben buralara köyden geldim\"\n",
    "kelimeSayisi = cumle.count(\" \")\n",
    "harfSayisi = len(cumle)-kelimeSayisi\n",
    "print(\"Kelime sayısı:\",kelimeSayisi+1)\n",
    "print(\"Harf sayısı:\",harfSayisi)"
   ]
  },
  {
   "cell_type": "code",
   "execution_count": 4,
   "metadata": {},
   "outputs": [
    {
     "name": "stdout",
     "output_type": "stream",
     "text": [
      "Sifre giriniz:3\n",
      "Şifre yanlış\n",
      "Sifre giriniz:2\n",
      "Şifre yanlış\n",
      "Sifre giriniz:1997\n",
      "Giriş Başarılı\n"
     ]
    }
   ],
   "source": [
    "#Soru : Kullanıcının telefonunu açabilmesi için şifre sorgulaması yapan programı yazınız.\n",
    "#Şifre:1997\n",
    "#Şifreyi 3 kez yanlış girilmesi durumunda telefonu kitlenecek.\n",
    "sifre=1997\n",
    "giris_sayisi = 0\n",
    "while giris_sayisi<3:\n",
    "    giris = int(input(\"Sifre giriniz:\"))\n",
    "    if giris==sifre:\n",
    "        print(\"Giriş Başarılı\")\n",
    "        break\n",
    "    else:\n",
    "        print(\"Şifre yanlış\")\n",
    "    giris_sayisi +=1\n",
    "    if giris_sayisi>=3:\n",
    "        print(\"Tel kilitlendi\")"
   ]
  },
  {
   "cell_type": "code",
   "execution_count": 20,
   "metadata": {},
   "outputs": [
    {
     "name": "stdout",
     "output_type": "stream",
     "text": [
      "[1, 2, 3, 4]\n",
      "[1, 2, 3, 4, 9, 10, 11]\n",
      "[41, 1, 2, 3, 4, 9, 10, 11]\n",
      "[41, 1, 3, 4, 9, 10, 11]\n",
      "[41, 1, 4, 9, 10, 11]\n",
      "1\n",
      "[41, 1, 4, 9, 10, 11]\n",
      "[11, 10, 9, 4, 1, 41]\n",
      "[1, 4, 9, 10, 11, 41]\n"
     ]
    }
   ],
   "source": [
    "### 12 VE 13.HAFTA ####### VERİ YAPILARI ####\n",
    "# Liste işlemleri\n",
    "liste = [1,2,3]\n",
    "liste2 = [9,10,11]\n",
    "# Ekleme yapmak\n",
    "liste.append(4)\n",
    "print(liste)\n",
    "# İki liste birleştirme\n",
    "liste.extend(liste2)\n",
    "print(liste)\n",
    "# X indeksli eleman yerine değer ekler\n",
    "liste.insert(0,41)\n",
    "print(liste)\n",
    "# Değere göre eleman silme\n",
    "liste.remove(2)\n",
    "print(liste)\n",
    "# İndekse göre eleman silme\n",
    "liste.pop(2)\n",
    "print(liste)\n",
    "# Değerin listede kaç kere geçtiği söyler\n",
    "print(liste.count(41))\n",
    "# Listeyi kopyalar \n",
    "listeKopya = liste.copy()\n",
    "print(listeKopya)\n",
    "# Listeyi tersten sıralar\n",
    "liste.reverse()\n",
    "print(liste)\n",
    "# Listeyi küçükten büyüğe sıralar\n",
    "liste.sort()\n",
    "print(liste)"
   ]
  },
  {
   "cell_type": "code",
   "execution_count": 24,
   "metadata": {},
   "outputs": [
    {
     "name": "stdout",
     "output_type": "stream",
     "text": [
      "[0, 1, 2, 3, 4, 5, 6, 7, 8, 9, 10, 11, 12, 13, 14, 15, 16, 17, 18, 19]\n",
      "[0, 2, 4, 6, 8, 10, 12, 14, 16, 18]\n"
     ]
    }
   ],
   "source": [
    "#Liste üreteçleri\n",
    "liste = [x for x in range(20)]\n",
    "print(liste)\n",
    "liste2= [x for x in range(20) if x%2==0]\n",
    "print(liste2)"
   ]
  },
  {
   "cell_type": "code",
   "execution_count": 31,
   "metadata": {},
   "outputs": [
    {
     "name": "stdout",
     "output_type": "stream",
     "text": [
      "['B', 'E', 'E', 'K', 'N', 'T', 'Y']\n"
     ]
    }
   ],
   "source": [
    "# Liste örnek\n",
    "#Soru:\"BEYKENT\" kelimesindeki harfleri küçükten büyüğe doğru sıralayan programı yazalım.\n",
    "x = \"BEYKENT\"\n",
    "x = list(x)\n",
    "x.sort()\n",
    "print(x)"
   ]
  },
  {
   "cell_type": "code",
   "execution_count": 33,
   "metadata": {},
   "outputs": [
    {
     "name": "stdout",
     "output_type": "stream",
     "text": [
      "['T', 'N', 'E', 'K', 'Y', 'E', 'B']\n"
     ]
    }
   ],
   "source": [
    "#\"BEYKENT\" kelimesindeki harfleri yeni bir diziye ters sırada kopyalayıp ekrana yazdıran programı yazalım.\n",
    "beyCumle = \"BEYKENT\"\n",
    "yeniDizi = (list(reversed(beyCumle))).copy()\n",
    "print(yeniDizi)"
   ]
  },
  {
   "cell_type": "code",
   "execution_count": 36,
   "metadata": {},
   "outputs": [
    {
     "name": "stdout",
     "output_type": "stream",
     "text": [
      "[2, 3, 5, 7, 11, 13]\n",
      "[4, 6, 8, 9, 10, 12, 14, 15]\n"
     ]
    }
   ],
   "source": [
    "#Soru: 2-16 arasındaki asal olanları X dizisinde, asalolmayanları ise Y dizisinde tutan programı yazalım.\n",
    "x = []\n",
    "y = []\n",
    "liste = range(2,16)\n",
    "def asalFonk(sayi):\n",
    "    for x in range(2,sayi):\n",
    "        if(sayi%x==0):\n",
    "            return False\n",
    "    return True\n",
    "for i in liste:\n",
    "    if asalFonk(i)==True:\n",
    "        x.append(i)\n",
    "    else:\n",
    "        y.append(i)\n",
    "print(x)\n",
    "print(y)"
   ]
  },
  {
   "cell_type": "code",
   "execution_count": 43,
   "metadata": {},
   "outputs": [
    {
     "name": "stdout",
     "output_type": "stream",
     "text": [
      "deque(['Kadir', 'Ahmet', 'Hasan', 'Mehmet', 'Mahmut', 'Şakir'])\n"
     ]
    }
   ],
   "source": [
    "#Kuyruklama\n",
    "from collections import deque\n",
    "kuyruk =deque([\"Yusuf\",\"Kadir\",\"Ahmet\",\"Hasan\",\"Mehmet\"])\n",
    "kuyruk.append(\"Mahmut\")\n",
    "kuyruk.append(\"Şakir\")\n",
    "kuyruk.popleft()\n",
    "print(kuyruk)"
   ]
  },
  {
   "cell_type": "code",
   "execution_count": 52,
   "metadata": {},
   "outputs": [
    {
     "name": "stdout",
     "output_type": "stream",
     "text": [
      "[[1, 2, 3], [4, 5, 6], [7, 8, 9]]\n",
      "[[12, 24, 36], [48, 60, 72], [94, 106, 78]]\n"
     ]
    }
   ],
   "source": [
    "#Matris işlemi\n",
    "M=[[1,2,3],[4,5,6],[7,8,9]]\n",
    "M2=[[11,22,33],[44,55,66],[87,98,69]]\n",
    "#Toplama yapabilmek için boş dizi oluşturmak gerekiyor 0'dan oluşan\n",
    "M3=[[0,0,0],[0,0,0],[0,0,0]]\n",
    "print(M)\n",
    "for x in range(len(M)):\n",
    "    for y in range(len(M)):\n",
    "        M3[x][y]=M[x][y]+M2[x][y]\n",
    "print(M3)"
   ]
  },
  {
   "cell_type": "code",
   "execution_count": 55,
   "metadata": {},
   "outputs": [
    {
     "name": "stdout",
     "output_type": "stream",
     "text": [
      "SELAM\n"
     ]
    }
   ],
   "source": [
    "#Demet Tuple\n",
    "demet = ('S','E','L','A','M')\n",
    "def convertTuple(tupleItem):\n",
    "    str = \"\".join(tupleItem)\n",
    "    return str\n",
    "yazi = convertTuple(demet)\n",
    "print(yazi)"
   ]
  },
  {
   "cell_type": "code",
   "execution_count": 57,
   "metadata": {},
   "outputs": [
    {
     "name": "stdout",
     "output_type": "stream",
     "text": [
      "Aranan sayıyı girin: 7\n",
      "Aranan sayı 3 . sırada bulundu\n"
     ]
    }
   ],
   "source": [
    "# Demet sorusu\n",
    "#Soru :Dizi=(2, 4, 7, 15, 36, 42, 55) demetinde aranan sayı varsa sırasını bulan programı yazınız.\n",
    "dizi=(2, 4, 7, 15, 36, 42, 55)\n",
    "ara=int(input(\"Aranan sayıyı girin: \"))\n",
    "if ara in dizi: #True ise\n",
    "    x=dizi.index(ara) #Aranan sayının indisi\n",
    "    print(\"Aranan sayı\", x+1,\". sırada bulundu\")\n",
    "else: #False ise\n",
    "    print(\"Aranan sayı bulunamadı.\")"
   ]
  },
  {
   "cell_type": "code",
   "execution_count": 63,
   "metadata": {},
   "outputs": [
    {
     "name": "stdout",
     "output_type": "stream",
     "text": [
      "{'İstanbul': '34', 'Diyarbakır': '21', 'Isparta': '32'}\n",
      "34\n"
     ]
    }
   ],
   "source": [
    "# Sozluk\n",
    "illerSozluk={\"İstanbul\" :\"34\", \"Diyarbakır\":\"21\", \"Isparta\":\"32\"}\n",
    "print(illerSozluk)\n",
    "print(illerSozluk[\"İstanbul\"])"
   ]
  },
  {
   "cell_type": "code",
   "execution_count": 66,
   "metadata": {},
   "outputs": [
    {
     "name": "stdout",
     "output_type": "stream",
     "text": [
      "{0: 0, 1: 1, 2: 4, 3: 9, 4: 16, 5: 25, 6: 36, 7: 49, 8: 64, 9: 81}\n"
     ]
    }
   ],
   "source": [
    "#Soru: Sayılar ve karelerinden oluşan küme oluşturun\n",
    "kume = {x:x**2 for x in range(10)}\n",
    "print(kume)"
   ]
  }
 ],
 "metadata": {
  "kernelspec": {
   "display_name": "Python 3",
   "language": "python",
   "name": "python3"
  },
  "language_info": {
   "codemirror_mode": {
    "name": "ipython",
    "version": 3
   },
   "file_extension": ".py",
   "mimetype": "text/x-python",
   "name": "python",
   "nbconvert_exporter": "python",
   "pygments_lexer": "ipython3",
   "version": "3.7.4"
  }
 },
 "nbformat": 4,
 "nbformat_minor": 2
}
